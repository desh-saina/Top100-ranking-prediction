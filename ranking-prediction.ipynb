{
 "cells": [
  {
   "cell_type": "code",
   "execution_count": 11,
   "id": "7dcad558",
   "metadata": {
    "scrolled": true
   },
   "outputs": [
    {
     "name": "stdout",
     "output_type": "stream",
     "text": [
      "[0 1 1 1 1 1 1 1 1 1 1 1 1 1 1 1 1 1 1 1 1 1 1 1 1 0 0 1 1 1 1 1 0 1 1 1 1\n",
      " 1 1 1 0 1 1 1 1 1 0 1 1 1 1 1 1 1 0 0 0 1 1 1 0 1 1 1 1 1 1 1 0 1 1 1 0 1\n",
      " 0 0 1 1 1 1 1 1 1 1 1 1 1 1 1 1 0 1 1 1 1 0 1 0 1 1 1 1 0 0 0 1 0 1 1 1 1\n",
      " 1 1 1 1 0 1 1 1 1 1 1 0 1 1 1 1 1 1 0 0 1 1 1 1 1 1 0 0 0 1 1 1 1 1 0 0 1\n",
      " 1 1 0 0 1 1 1 1 1 1 1 1 0 1 1 1 1 1 1 1 1 1 0 0 0 1 1 1 0 0 1 1 0 1 1 1 1\n",
      " 0 1 1 0 1 1 1 1 1 1 1 0 0 1 1 1 1 1 1 1 1 1 1 1 1 1 1 1 0 1 1 1 1 1 1 1 1\n",
      " 0 1 1 1 1 1 1 1 1 1 0 0 1 1 1 1 1 1 1 1 1 1 1 1 1 1 1 1 1 1 1 1 0 1 0 1 1\n",
      " 1 1 1 1 1 1 0 0 0 1 1 1 1 0 1 1 1 1 1 1 0 1 1 1 0 1 1 0 1 1 1 1 0 0 1 1 0\n",
      " 1 0 1 1 1 1 1 1 0 1 1 0 1 1 0 1 1 1 0 0 1 1 1 1 0 1 1 0 0 0 1]\n",
      "Accuracy: 0.6880733944954128\n",
      "Pearson correlation: 0.193611\n",
      "                Age    Height  Yes or no\n",
      "Age        1.000000  0.059770   0.193611\n",
      "Height     0.059770  1.000000   0.228671\n",
      "Yes or no  0.193611  0.228671   1.000000\n"
     ]
    },
    {
     "data": {
      "image/png": "[encoded data removed]",
      "text/plain": [
       "<Figure size 432x288 with 2 Axes>"
      ]
     },
     "metadata": {
      "needs_background": "light"
     },
     "output_type": "display_data"
    }
   ],
   "source": [
    "import pandas as pd\n",
    "from sklearn.model_selection import train_test_split\n",
    "import numpy as np \n",
    "from sklearn import preprocessing \n",
    "from sklearn.naive_bayes import GaussianNB\n",
    "\n",
    "from sklearn.utils import shuffle\n",
    "import seaborn as sb\n",
    "\n",
    "le = preprocessing.LabelEncoder()\n",
    "data=pd.read_csv('C:\\\\Users\\\\deshs\\\\Final Data Set (csv).csv')\n",
    "P=X=data[['Height','Age','Yes or no']].values.astype(int)\n",
    "X=data[['Nationality','Height','Age']].values.astype(int)\n",
    "a=data['Height'].values.astype(int)\n",
    "b=data['Age'].values.astype(int)\n",
    "c=data['Nationality'].values.astype(int)\n",
    "y=data['Yes or no'].values.astype(int)\n",
    "\n",
    "\n",
    "from sklearn.model_selection import train_test_split\n",
    "X_train, X_test, y_train, y_test = train_test_split(X, y, test_size = .2)\n",
    "\n",
    "\n",
    "classifier = GaussianNB()\n",
    "classifier.fit(X_train, y_train)\n",
    "\n",
    "\n",
    "#Predict the response for test dataset\n",
    "y_pred = classifier.predict(X_test)\n",
    "print(y_pred)\n",
    "\n",
    "from sklearn import  metrics\n",
    "\n",
    "print(\"Accuracy:\",metrics.accuracy_score(y_test, y_pred))\n",
    "\n",
    "\n",
    "\n",
    "#For Pearson's correlation\n",
    "from scipy.stats import pearsonr\n",
    "corr, _= pearsonr(b,y)\n",
    "print(\"Pearson correlation: %3f\" % corr)\n",
    "\n",
    "\n",
    "\n",
    "#Heatmap\n",
    "dita=pd.read_csv('C:\\\\Users\\\\deshs\\\\For heatmap(csv).csv')\n",
    "\n",
    "from matplotlib import pyplot\n",
    "print(dita.corr())\n",
    "dataplot = sb.heatmap(dita.corr(), cmap=\"YlGnBu\", annot=True)\n",
    "pyplot.show()\n",
    "\n",
    "#line graph\n",
    "#pyplot.plot(a,b)\n",
    "#pyplot.show\n"
   ]
  },
  {
   "cell_type": "code",
   "execution_count": 4,
   "id": "03e082e8",
   "metadata": {},
   "outputs": [
    {
     "name": "stdout",
     "output_type": "stream",
     "text": [
      "The prediction is [0]\n"
     ]
    }
   ],
   "source": [
    "#For a given input\n",
    "new_input= [[57,60,17]]\n",
    "new_input_pred=classifier.predict(new_input)\n",
    "print(\"The prediction is\", new_input_pred)"
   ]
  }
 ],
 "metadata": {
  "kernelspec": {
   "display_name": "Python 3",
   "language": "python",
   "name": "python3"
  },
  "language_info": {
   "codemirror_mode": {
    "name": "ipython",
    "version": 3
   },
   "file_extension": ".py",
   "mimetype": "text/x-python",
   "name": "python",
   "nbconvert_exporter": "python",
   "pygments_lexer": "ipython3",
   "version": "3.8.8"
  }
 },
 "nbformat": 4,
 "nbformat_minor": 5
}
